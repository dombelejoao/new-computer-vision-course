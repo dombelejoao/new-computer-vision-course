{
 "cells": [
  {
   "cell_type": "markdown",
   "id": "4f4b9be9",
   "metadata": {},
   "source": [
    "# Image clustering with CLIP\n",
    "\n",
    "In this notebook, we explore how to use CLIP and FAISS to cluster images.\n",
    "We will apply the following steps:\n",
    "* Install required packages\n",
    "* Load a dataset (CIFAR10 here)\n",
    "* Make 10 clusters as there are 10 classes in the dataset\n",
    "* Display distribution of the 10 classes in the clusters"
   ]
  },
  {
   "cell_type": "markdown",
   "id": "6a93ebdf",
   "metadata": {},
   "source": [
    "## Install required packages"
   ]
  },
  {
   "cell_type": "code",
   "execution_count": null,
   "id": "647e1588",
   "metadata": {
    "scrolled": false
   },
   "outputs": [],
   "source": [
    "pip install transformers torch datasets matplotlib scikit-learn\n"
   ]
  },
  {
   "cell_type": "markdown",
   "id": "cf841f42",
   "metadata": {},
   "source": [
    "## Install FAISS with GPU or CPU support\n",
    "For CPU only, install faiss-cpu.\n",
    "For GPU, install faiss-gpu.\n",
    "Uncomment the line below that fits your hardware and run."
   ]
  },
  {
   "cell_type": "code",
   "execution_count": 18,
   "id": "11c8411f",
   "metadata": {},
   "outputs": [],
   "source": [
    "#pip install faiss-gpu\n",
    "#pip install faiss-cpu"
   ]
  },
  {
   "cell_type": "markdown",
   "id": "632da261",
   "metadata": {},
   "source": [
    "## Load CLIP: model and processor using transformers\n",
    "Firstly, import the required packages.\n",
    "Then, define the device to use (i.e gpu or cpu).\n",
    "Lastly, load CLIP model and processor using Transformers."
   ]
  },
  {
   "cell_type": "code",
   "execution_count": 19,
   "id": "202a372f",
   "metadata": {
    "scrolled": true
   },
   "outputs": [],
   "source": [
    "#Import packages\n",
    "import torch\n",
    "from transformers import AutoProcessor, CLIPModel, AutoImageProcessor\n",
    "from datasets import load_dataset\n",
    "import faiss\n",
    "import numpy as np\n",
    "import time\n",
    "\n",
    "#Define device\n",
    "device = torch.device('cuda' if torch.cuda.is_available() else \"cpu\")\n",
    "\n",
    "#Load CLIP model and processor\n",
    "processor = AutoProcessor.from_pretrained(\"openai/clip-vit-base-patch32\")\n",
    "model = CLIPModel.from_pretrained(\"openai/clip-vit-base-patch32\").to(device)"
   ]
  },
  {
   "cell_type": "markdown",
   "id": "91a0a0b3",
   "metadata": {},
   "source": [
    "## Load CIFAR 10 dataset\n",
    "We use this dataset as it has 10 pre-defined classes."
   ]
  },
  {
   "cell_type": "code",
   "execution_count": 20,
   "id": "d8a2fdf3",
   "metadata": {
    "scrolled": true
   },
   "outputs": [
    {
     "name": "stderr",
     "output_type": "stream",
     "text": [
      "Found cached dataset cifar10 (/home/user/.cache/huggingface/datasets/cifar10/plain_text/1.0.0/447d6ec4733dddd1ce3bb577c7166b986eaa4c538dcd9e805ba61f35674a9de4)\n",
      "100%|████████████████████████████████████████████| 2/2 [00:00<00:00, 936.02it/s]\n"
     ]
    },
    {
     "data": {
      "image/png": "[encoded data removed]",
      "text/plain": [
       "<PIL.PngImagePlugin.PngImageFile image mode=RGB size=32x32>"
      ]
     },
     "metadata": {},
     "output_type": "display_data"
    }
   ],
   "source": [
    "#Load cifar10 dataset\n",
    "dataset = load_dataset(\"cifar10\")\n",
    "\n",
    "#Display an image\n",
    "display(dataset['train'][0]['img'])"
   ]
  },
  {
   "cell_type": "markdown",
   "id": "ba97aac9",
   "metadata": {},
   "source": [
    "## Extract the features of all images in the test set (10K images) and store them in a FAISS index\n",
    "In order to create clusters, we need to extract the features of all the images of the dataset.\n",
    "We will store the features in a FAISS index. The dimensionality of the features is 512 for the clip-vit-base-patch32 model. Therefore, we create an index with the parameter 512.\n",
    "We define 2 functions for this purpose:\n",
    "* extract_features_clip: takes an image as input and return its features.\n",
    "* add_vector_to_index: add the image features to a FAISS index. Before, it preprocesses the vector to fit FAISS requirements (i.e. numpy float 32 vector) and normalizes the vector.\n",
    "\n",
    "Lastly, we iterate over the dataset to extract and store the features.\n"
   ]
  },
  {
   "cell_type": "code",
   "execution_count": 21,
   "id": "43599042",
   "metadata": {},
   "outputs": [],
   "source": [
    "#Add a vector to FAISS index\n",
    "def add_vector_to_index(embedding, index):\n",
    "    #convert embedding to numpy\n",
    "    vector = embedding.detach().cpu().numpy()\n",
    "    #Convert to float32 numpy\n",
    "    vector = np.float32(vector)\n",
    "    #Normalize vector\n",
    "    faiss.normalize_L2(vector)\n",
    "    #Add to index\n",
    "    index.add(vector)\n",
    "\n",
    "#Extract features of a given image\n",
    "def extract_features_clip(image):\n",
    "    with torch.no_grad():\n",
    "        inputs = processor(images=image, return_tensors=\"pt\").to(device)\n",
    "        image_features = model.get_image_features(**inputs)\n",
    "        return image_features\n",
    "\n",
    "#Create FAISS index\n",
    "index = faiss.IndexFlatL2(512)\n",
    "\n",
    "#Process the dataset to extract all features and store in index\n",
    "for image in dataset['test']:\n",
    "    clip_features = extract_features_clip(image['img'])\n",
    "    add_vector_to_index(clip_features,index)\n",
    "    \n",
    "#Write index locally. Not needed after but can be useful for future retrieval\n",
    "faiss.write_index(index,\"clip.index\")"
   ]
  },
  {
   "cell_type": "markdown",
   "id": "89549134",
   "metadata": {},
   "source": [
    "## Create 10 clusters\n",
    "\n",
    "Firstly, we need to retrieve all the vectors.\n",
    "Then, we define the parameters we want to apply for the clustering:\n",
    "* ncentroids: number of clusters to make.\n",
    "* niter: number of iterations performed during the k-means clustering process.\n",
    "* d: dimensionality of the vectors (512 here).\n",
    "\n",
    "Lastly, we apply k-means clustering to the vectors.\n"
   ]
  },
  {
   "cell_type": "code",
   "execution_count": 22,
   "id": "5f8b4b34",
   "metadata": {},
   "outputs": [
    {
     "name": "stdout",
     "output_type": "stream",
     "text": [
      "Sampling a subset of 2560 / 10000 for training\n",
      "Clustering 2560 points in 512D to 10 clusters, redo 1 times, 50 iterations\n",
      "  Preprocessing in 0.00 s\n",
      "  Iteration 0 (0.00 s, search 0.00 s): objective=819.856 imbalance=1.387 nsplit=0       \r",
      "  Iteration 1 (0.00 s, search 0.00 s): objective=458.311 imbalance=1.309 nsplit=0       \r",
      "  Iteration 2 (0.00 s, search 0.00 s): objective=443.251 imbalance=1.293 nsplit=0       \r",
      "  Iteration 3 (0.01 s, search 0.01 s): objective=435.556 imbalance=1.282 nsplit=0       \r",
      "  Iteration 4 (0.01 s, search 0.01 s): objective=433.769 imbalance=1.267 nsplit=0       \r",
      "  Iteration 5 (0.01 s, search 0.01 s): objective=433.299 imbalance=1.251 nsplit=0       \r",
      "  Iteration 6 (0.01 s, search 0.01 s): objective=432.918 imbalance=1.234 nsplit=0       \r",
      "  Iteration 7 (0.01 s, search 0.01 s): objective=432.557 imbalance=1.223 nsplit=0       \r",
      "  Iteration 8 (0.01 s, search 0.01 s): objective=431.988 imbalance=1.213 nsplit=0       \r",
      "  Iteration 9 (0.01 s, search 0.01 s): objective=430.966 imbalance=1.201 nsplit=0       \r",
      "  Iteration 10 (0.02 s, search 0.01 s): objective=429.861 imbalance=1.192 nsplit=0       \r",
      "  Iteration 11 (0.02 s, search 0.02 s): objective=429.303 imbalance=1.181 nsplit=0       \r",
      "  Iteration 12 (0.02 s, search 0.02 s): objective=428.878 imbalance=1.172 nsplit=0       \r",
      "  Iteration 13 (0.02 s, search 0.02 s): objective=428.451 imbalance=1.160 nsplit=0       \r",
      "  Iteration 14 (0.02 s, search 0.02 s): objective=427.745 imbalance=1.148 nsplit=0       \r",
      "  Iteration 15 (0.02 s, search 0.02 s): objective=425.905 imbalance=1.131 nsplit=0       \r",
      "  Iteration 16 (0.02 s, search 0.02 s): objective=423.183 imbalance=1.122 nsplit=0       \r",
      "  Iteration 17 (0.02 s, search 0.02 s): objective=421.156 imbalance=1.119 nsplit=0       \r",
      "  Iteration 18 (0.03 s, search 0.02 s): objective=419.176 imbalance=1.121 nsplit=0       \r",
      "  Iteration 19 (0.03 s, search 0.02 s): objective=418.885 imbalance=1.122 nsplit=0       \r",
      "  Iteration 20 (0.03 s, search 0.03 s): objective=418.834 imbalance=1.122 nsplit=0       \r",
      "  Iteration 21 (0.03 s, search 0.03 s): objective=418.818 imbalance=1.122 nsplit=0       \r",
      "  Iteration 22 (0.03 s, search 0.03 s): objective=418.794 imbalance=1.122 nsplit=0       \r",
      "  Iteration 23 (0.03 s, search 0.03 s): objective=418.78 imbalance=1.122 nsplit=0       \r",
      "  Iteration 24 (0.03 s, search 0.03 s): objective=418.774 imbalance=1.122 nsplit=0       \r",
      "  Iteration 25 (0.04 s, search 0.03 s): objective=418.769 imbalance=1.122 nsplit=0       \r",
      "  Iteration 26 (0.04 s, search 0.03 s): objective=418.766 imbalance=1.122 nsplit=0       \r",
      "  Iteration 27 (0.04 s, search 0.04 s): objective=418.759 imbalance=1.122 nsplit=0       \r",
      "  Iteration 28 (0.04 s, search 0.04 s): objective=418.757 imbalance=1.122 nsplit=0       \r",
      "  Iteration 29 (0.04 s, search 0.04 s): objective=418.756 imbalance=1.122 nsplit=0       \r",
      "  Iteration 30 (0.04 s, search 0.04 s): objective=418.75 imbalance=1.122 nsplit=0       \r",
      "  Iteration 31 (0.04 s, search 0.04 s): objective=418.746 imbalance=1.122 nsplit=0       \r",
      "  Iteration 32 (0.05 s, search 0.04 s): objective=418.746 imbalance=1.122 nsplit=0       \r",
      "  Iteration 33 (0.05 s, search 0.04 s): objective=418.746 imbalance=1.122 nsplit=0       \r",
      "  Iteration 34 (0.05 s, search 0.04 s): objective=418.746 imbalance=1.122 nsplit=0       \r",
      "  Iteration 35 (0.05 s, search 0.05 s): objective=418.746 imbalance=1.122 nsplit=0       \r",
      "  Iteration 36 (0.05 s, search 0.05 s): objective=418.746 imbalance=1.122 nsplit=0       \r",
      "  Iteration 37 (0.05 s, search 0.05 s): objective=418.746 imbalance=1.122 nsplit=0       \r",
      "  Iteration 38 (0.05 s, search 0.05 s): objective=418.746 imbalance=1.122 nsplit=0       \r",
      "  Iteration 39 (0.06 s, search 0.05 s): objective=418.746 imbalance=1.122 nsplit=0       \r",
      "  Iteration 40 (0.06 s, search 0.05 s): objective=418.746 imbalance=1.122 nsplit=0       \r",
      "  Iteration 41 (0.06 s, search 0.05 s): objective=418.746 imbalance=1.122 nsplit=0       \r",
      "  Iteration 42 (0.06 s, search 0.05 s): objective=418.746 imbalance=1.122 nsplit=0       \r",
      "  Iteration 43 (0.06 s, search 0.06 s): objective=418.746 imbalance=1.122 nsplit=0       \r",
      "  Iteration 44 (0.06 s, search 0.06 s): objective=418.746 imbalance=1.122 nsplit=0       \r",
      "  Iteration 45 (0.06 s, search 0.06 s): objective=418.746 imbalance=1.122 nsplit=0       \r",
      "  Iteration 46 (0.07 s, search 0.06 s): objective=418.746 imbalance=1.122 nsplit=0       \r",
      "  Iteration 47 (0.07 s, search 0.06 s): objective=418.746 imbalance=1.122 nsplit=0       \r",
      "  Iteration 48 (0.07 s, search 0.06 s): objective=418.746 imbalance=1.122 nsplit=0       \r",
      "  Iteration 49 (0.07 s, search 0.06 s): objective=418.746 imbalance=1.122 nsplit=0       \r",
      "Clustering done in  0.07391953468322754\n",
      "(array([0.13438654, 0.11428928, 0.15640831, ..., 0.12223983, 0.19230473,\n",
      "       0.09824598], dtype=float32), array([4, 3, 3, ..., 6, 0, 2]))\n",
      "[4 3 3 ... 6 0 2]\n",
      "(10000,)\n"
     ]
    }
   ],
   "source": [
    "#Retrieve the vectors\n",
    "vectors = index.reconstruct_n(0, 10000)\n",
    "\n",
    "#Define clusters and parameters\n",
    "x= vectors\n",
    "ncentroids = 10\n",
    "niter = 50\n",
    "verbose = True\n",
    "d = x.shape[1]\n",
    "\n",
    "t0=time.time()\n",
    "#Launch clustering\n",
    "kmeans = faiss.Kmeans(d, ncentroids, niter=niter, verbose=verbose)\n",
    "kmeans.train(x)\n",
    "print('Clustering done in ', time.time()-t0)\n",
    "\n",
    "#cluster assignments: [array of vectors, array of indices (cluster assigned to a given vector)]\n",
    "cluster_assignments = kmeans.assign(vectors)\n",
    "print(cluster_assignments)\n",
    "#Print indices only\n",
    "clusters_ind = cluster_assignments[1]\n",
    "print(clusters_ind)"
   ]
  },
  {
   "cell_type": "markdown",
   "id": "48e1d5b8",
   "metadata": {},
   "source": [
    "## Create a matrix to store the distribution of vectors in the cluster and visualise it\n",
    "Create an empty 10x10 matrix to store the distribution of the clusters."
   ]
  },
  {
   "cell_type": "code",
   "execution_count": 23,
   "id": "8a0e850c",
   "metadata": {},
   "outputs": [
    {
     "name": "stdout",
     "output_type": "stream",
     "text": [
      "[[0 0 0 0 0 0 0 0 0 0]\n",
      " [0 0 0 0 0 0 0 0 0 0]\n",
      " [0 0 0 0 0 0 0 0 0 0]\n",
      " [0 0 0 0 0 0 0 0 0 0]\n",
      " [0 0 0 0 0 0 0 0 0 0]\n",
      " [0 0 0 0 0 0 0 0 0 0]\n",
      " [0 0 0 0 0 0 0 0 0 0]\n",
      " [0 0 0 0 0 0 0 0 0 0]\n",
      " [0 0 0 0 0 0 0 0 0 0]\n",
      " [0 0 0 0 0 0 0 0 0 0]]\n"
     ]
    }
   ],
   "source": [
    "distribution = np.zeros((10, 10), dtype=int)\n",
    "print(distribution)"
   ]
  },
  {
   "cell_type": "markdown",
   "id": "b4848361",
   "metadata": {},
   "source": [
    "Iterate over the the array of cluster assignement to populate the matrix. x-axis is the cluster ID, while y-axis is the label of the image (value between 0 and 9).\n",
    "The matrix can be read as follows:\n",
    "* distribution[0][0]: for cluster 1, number of images labelled 0.\n",
    "* distribution[0][1]: for cluster 1, number of images labelled 1.\n",
    "...\n"
   ]
  },
  {
   "cell_type": "code",
   "execution_count": 24,
   "id": "3350c563",
   "metadata": {},
   "outputs": [
    {
     "name": "stdout",
     "output_type": "stream",
     "text": [
      "\n",
      "[[821   3   9   1   1   0   0   1  26   0]\n",
      " [  0   0  61  12 764  14   6  26   0   0]\n",
      " [  0   0   1   0   9   3   0 861   0   0]\n",
      " [ 15   0   2   0   0   0   0   0 912   6]\n",
      " [132  20 148 179 155 131 244  99  45  37]\n",
      " [ 13   0 102  41  59   6 736   1   2   1]\n",
      " [  0   0   3  19   2 780   2   8   0   0]\n",
      " [ 12 976   0   2   1   2   0   0  15 956]\n",
      " [  0   1   9 743   7  62   8   3   0   0]\n",
      " [  7   0 665   3   2   2   4   1   0   0]]\n"
     ]
    }
   ],
   "source": [
    "for vector_index,cluster_nb in enumerate(clusters_ind):\n",
    "    label = dataset['test'][vector_index]['label']\n",
    "    distribution[cluster_nb][label]+=1\n",
    " \n",
    "print(distribution)"
   ]
  },
  {
   "cell_type": "markdown",
   "id": "9efeec42",
   "metadata": {},
   "source": [
    "Sum up number of images per cluster to understand how many images were assigned for each cluster."
   ]
  },
  {
   "cell_type": "code",
   "execution_count": 25,
   "id": "08e340ef",
   "metadata": {},
   "outputs": [
    {
     "name": "stdout",
     "output_type": "stream",
     "text": [
      "Number of images per cluster:\n",
      "[ 862  883  874  935 1190  961  814 1964  833  684]\n"
     ]
    }
   ],
   "source": [
    "row_sums = np.sum(distribution, axis=1)\n",
    "print(\"Number of images per cluster:\")\n",
    "print(row_sums)"
   ]
  },
  {
   "cell_type": "markdown",
   "id": "4f286e1b",
   "metadata": {},
   "source": [
    "Plot distribution of labels per cluster."
   ]
  },
  {
   "cell_type": "code",
   "execution_count": 35,
   "id": "227c8fbf",
   "metadata": {},
   "outputs": [
    {
     "data": {
      "image/png": "[encoded data removed]",
      "text/plain": [
       "<Figure size 640x480 with 2 Axes>"
      ]
     },
     "metadata": {},
     "output_type": "display_data"
    }
   ],
   "source": [
    "from sklearn.metrics import confusion_matrix, ConfusionMatrixDisplay\n",
    "import matplotlib.pyplot as plt\n",
    "\n",
    "disp = ConfusionMatrixDisplay(confusion_matrix=distribution)\n",
    "disp.plot()\n",
    "plt.ylabel('Cluster ID')\n",
    "plt.xlabel('Classes')\n",
    "labels = dataset[\"train\"].features[\"label\"].names\n",
    "x = range(len(labels))\n",
    "ticks = labels\n",
    "plt.xticks(x, ticks)\n",
    "plt.show()"
   ]
  }
 ],
 "metadata": {
  "kernelspec": {
   "display_name": "Python 3 (ipykernel)",
   "language": "python",
   "name": "python3"
  },
  "language_info": {
   "codemirror_mode": {
    "name": "ipython",
    "version": 3
   },
   "file_extension": ".py",
   "mimetype": "text/x-python",
   "name": "python",
   "nbconvert_exporter": "python",
   "pygments_lexer": "ipython3",
   "version": "3.10.12"
  }
 },
 "nbformat": 4,
 "nbformat_minor": 5
}
